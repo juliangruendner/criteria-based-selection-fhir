{
 "cells": [
  {
   "cell_type": "code",
   "execution_count": null,
   "metadata": {},
   "outputs": [],
   "source": [
    "!pip install pandas\n",
    "import requests\n",
    "import json\n",
    "import pandas\n",
    "import io"
   ]
  },
  {
   "cell_type": "code",
   "execution_count": null,
   "metadata": {},
   "outputs": [],
   "source": [
    "# example json which can be used to request data from preprocessor\n",
    "json = {\n",
    "    \"loinc\": [ \"718-7\"],\n",
    "    \"include\": {},\n",
    "    \"exclude\": [\n",
    "            {\n",
    "                \"resource\": \"Condition\",\n",
    "                \"system\": \"http://fhir.de/CodeSystem/dimdi/icd-10-gm\",\n",
    "                \"search_type\": \"exact\",\n",
    "                \"codes\": [\"C91.0\"],\n",
    "                \"dateField\": \"recordedDate\",\n",
    "                \"time_interval\": 2\n",
    "            },\n",
    "            {\n",
    "                \"resource\": \"Observation\",\n",
    "                \"system\": \"http://loinc.org\",\n",
    "                \"search_type\": \"exact\",\n",
    "                \"dateField\": \"effectiveDateTime\",\n",
    "                \"codes\": [\"718-7\"],\n",
    "                \"value_restriction\":{\n",
    "                    \"operator\": \"<\",\n",
    "                    \"compare_to\": 8\n",
    "                },\n",
    "                \"time_interval\": 0\n",
    "            }\n",
    "        ]\n",
    "    ,\n",
    "    \"feature_set\": [\n",
    "        {\n",
    "            \"resource\": \"Patient\",\n",
    "            \"name\": \"PID\",\n",
    "            \"resource_val_path\": \"identifier.0.value\"\n",
    "        },\n",
    "        {\n",
    "            \"resource\": \"Patient\",\n",
    "            \"name\": \"Geschlecht\",\n",
    "            \"resource_val_path\": \"gender\"\n",
    "        },\n",
    "        {\n",
    "            \"resource\": \"Observation\",\n",
    "            \"name\": \"alterZeitpunktMessung\",\n",
    "            \"computed\":{\n",
    "                \"field_1\":{\n",
    "                    \"resource\": \"Observation\",\n",
    "                    \"resource_val_path\": \"effectiveDateTime\"\n",
    "                },\n",
    "                \"field_2\":{\n",
    "                    \"resource\": \"Patient\",\n",
    "                    \"resource_val_path\": \"birthDate\"\n",
    "                },\n",
    "                \"operation\": \"diffYearsDate\"\n",
    "            }\n",
    "        },\n",
    "        {\n",
    "            \"resource\": \"Observation\",\n",
    "            \"name\": \"LoincVal\",\n",
    "            \"resource_val_path\": \"valueQuantity.value\"\n",
    "        },\n",
    "        {\n",
    "            \"resource\": \"Observation\",\n",
    "            \"name\": \"LoincRefLow\",\n",
    "            \"resource_val_path\": \"referenceRange.0.low.value\"\n",
    "        },\n",
    "        {\n",
    "            \"resource\": \"Observation\",\n",
    "            \"name\": \"LoincRefHigh\",\n",
    "            \"resource_val_path\": \"referenceRange.0.high.value\"\n",
    "        },\n",
    "        {\n",
    "            \"resource\": \"Observation\",\n",
    "            \"name\": \"Messdatum\",\n",
    "            \"resource_val_path\": \"effectiveDateTime\"\n",
    "        },\n",
    "        {\n",
    "            \"resource\": \"Observation\",\n",
    "            \"name\": \"Methdodik\",\n",
    "            \"resource_val_path\": \"method.text\"\n",
    "        }\n",
    "\n",
    "    ]\n",
    "}"
   ]
  },
  {
   "cell_type": "code",
   "execution_count": null,
   "metadata": {},
   "outputs": [],
   "source": [
    "# create new filter Task (sync = synchronos, async= asynchronos)\n",
    "resp = requests.post('http://localhost:5000/filterTasks?execution_type=sync', json=json )\n",
    "print(resp.text)"
   ]
  },
  {
   "cell_type": "code",
   "execution_count": null,
   "metadata": {},
   "outputs": [],
   "source": [
    "# get all tasks\n",
    "resp = requests.get('http://refInt_preproc:5000/filterTasks')\n",
    "print(resp.json())"
   ]
  },
  {
   "cell_type": "code",
   "execution_count": null,
   "metadata": {},
   "outputs": [],
   "source": [
    "# get specific task\n",
    "resp = requests.get('http://localhost:5000/filterTasks/5fa984241ab747375da573ce')\n",
    "print(resp.text)"
   ]
  },
  {
   "cell_type": "code",
   "execution_count": null,
   "metadata": {},
   "outputs": [],
   "source": [
    "# get filtered feature set from filter task (last part = task_id)\n",
    "resp = requests.get('http://refInt_preproc:5000/aggregationTasks/5de11d5176cf49593fe187b5')\n",
    "print(resp.text)"
   ]
  },
  {
   "cell_type": "code",
   "execution_count": null,
   "metadata": {},
   "outputs": [],
   "source": [
    "# get filtered feature set from filter task (last part = task_id)\n",
    "resp = requests.get('http://refInt_preproc:5000/aggregationTasks/5de11d5176cf49593fe187b5')\n",
    "print(resp.text)"
   ]
  },
  {
   "cell_type": "code",
   "execution_count": null,
   "metadata": {},
   "outputs": [],
   "source": [
    "# get filtered feature set from filter task (last part = task_id)\n",
    "resp = requests.get('http://localhost:5000/aggregationTasks/5fa984241ab747375da573ce')\n",
    "s = resp.content\n",
    "df1 = pandas.read_csv(io.StringIO(s.decode('utf-8')))\n",
    "print(df1)"
   ]
  },
  {
   "cell_type": "code",
   "execution_count": null,
   "metadata": {},
   "outputs": [],
   "source": []
  }
 ],
 "metadata": {
  "kernelspec": {
   "display_name": "Python 3",
   "language": "python",
   "name": "python3"
  },
  "language_info": {
   "codemirror_mode": {
    "name": "ipython",
    "version": 3
   },
   "file_extension": ".py",
   "mimetype": "text/x-python",
   "name": "python",
   "nbconvert_exporter": "python",
   "pygments_lexer": "ipython3",
   "version": "3.6.3-final"
  }
 },
 "nbformat": 4,
 "nbformat_minor": 2
}